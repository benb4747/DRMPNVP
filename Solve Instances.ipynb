{
 "cells": [
  {
   "cell_type": "code",
   "execution_count": 1,
   "metadata": {},
   "outputs": [],
   "source": [
    "import sys, os\n",
    "sys.path.append(os.path.relpath(\"../Repo/src/PDRO_Newsvendor/\"))\n",
    "from ambiguity_set import *\n",
    "from demand_RV import *\n",
    "from DRMPNVP import *\n",
    "from MPNVP import *\n",
    "\n",
    "import datetime\n",
    "\n",
    "num_processors = 32\n",
    "gurobi_cores = 4\n",
    "loop_cores = int(num_processors / gurobi_cores)\n",
    "timeout = 4 * 60 * 60\n",
    "\n",
    "T_vals = range(2, 5)\n",
    "mu_0_range = range(1, 21)\n",
    "sig_0_range = range(1, 11)\n",
    "num_omega0 = 3\n",
    "\n",
    "PWL_gap_vals = list(reversed([0.1, 0.25, 0.5]))\n",
    "disc_pts_vals = [3, 5, 10]\n",
    "p_range = list(100 * np.array(range(1, 3)))\n",
    "h_range = list(100 * np.array(range(1, 3)))\n",
    "b_range = list(100 * np.array(range(1, 3)))\n",
    "W_range = [4000]\n",
    "N_vals = [10, 25, 50]\n",
    "\n",
    "omega0_all = [mu_sig_combos(mu_0_range, sig_0_range, T_) \n",
    "              for T_ in T_vals]\n",
    "\n",
    "omega0_vals = []\n",
    "for T_ in T_vals:\n",
    "    np.random.seed(T_vals.index(T_))\n",
    "    indices = np.random.choice(\n",
    "        range(len(omega0_all[T_vals.index(T_)])), num_omega0)\n",
    "    omega0_vals.append(\n",
    "        [omega0_all[T_vals.index(T_)][i] for i in indices]\n",
    "    )\n",
    "\n",
    "inputs = [(mu_0, sig_0, T_, W, w, p, h, b, PWL_gap, n_pts,\n",
    "           0.001, timeout, gurobi_cores, N, 0.05)\n",
    "          for T_ in T_vals\n",
    "          for (mu_0, sig_0) in omega0_vals[T_vals.index(T_)]\n",
    "          for p in p_range for h in h_range \n",
    "          for b in b_range for PWL_gap in PWL_gap_vals\n",
    "          for N in N_vals for n_pts in disc_pts_vals\n",
    "          for w in [list(100*np.array(range(1, T_+1))[::-1])]\n",
    "          for W in W_range if b > max([w[t] - w[t+1] for t in range(T_-1)])]\n",
    "\n",
    "for i in range(len(inputs)):\n",
    "    inputs[i] = tuple([i] + list(inputs[i]))\n",
    "num_inputs = len(inputs)\n",
    "\n",
    "names = [\"ind\", \"rep\", \"num_reps\", \"mu_0\", \"sig_0\", \"T\", \"W\", \"w\", \"p\", \"h\", \"b\", \n",
    "         \"PWL_gap\", \"n_pts\", \"CS_tol\", \"solver_timeout\", \"N\",\n",
    "         \"alpha\", \"num_dists_full\", \"num_dists_reduced\", \"PWL_q\", \"PWL_worst\", \"PWL_obj\", \n",
    "         \"PWL_true_worst\", \"PWL_true_worst_obj\", \"PWL_tt\", \"PWL_TO\", \"PWL_true_obj\",\n",
    "        \"CS_q\", \"CS_worst\", \"CS_obj\", \"CS_true_worst\", \"CS_true_worst_obj\",\n",
    "         \"CS_tt\", \"CS_TO\", \"CS_reason\", \"CS_true_obj\", \"fd_q\", \"fd_worst\", \"fd_obj\", \n",
    "         \"fd_true_worst\", \"fd_true_worst_obj\", \"fd_tt\", \"fd_true_obj\"\n",
    "]  \n",
    "\n",
    "num_instances = 10\n",
    "num_reps = 1\n",
    "\n",
    "if num_reps > 1:\n",
    "    results_file = \"results_reps.txt\"\n",
    "    count_file = \"count_reps.txt\"\n",
    "    repeated_inputs = []\n",
    "    counter = 0\n",
    "    for T_ in T_vals:\n",
    "        inps = [i for i in inputs if i[3] == T_][:num_instances]\n",
    "        for rep in range(num_reps):\n",
    "            repeated_inputs += [tuple([i[0], rep, num_reps] + list(i)[1:]) for i in inps]\n",
    "else:\n",
    "    results_file = \"test_res.txt\"\n",
    "    count_file = \"test_count.txt\"\n",
    "    inps = inputs\n",
    "    repeated_inputs = [tuple([i[0], 0, 1] + list(i)[1:]) for i in inps]\n",
    "\n",
    "inputs = repeated_inputs\n",
    "\n",
    "test_full = [i for i in inputs if (i[names.index(\"T\")], i[names.index(\"n_pts\")]) != (4, 10)]"
   ]
  },
  {
   "cell_type": "code",
   "execution_count": 2,
   "metadata": {},
   "outputs": [],
   "source": [
    "inp = test_full[3]\n",
    "\n",
    "(index, rep, num_reps, mu_0, sig_0, T, W, w, p, h, b, \n",
    "     PWL_gap, n_pts, CS_tol, timeout, solver_cores, N, \n",
    "     alpha) = inp"
   ]
  },
  {
   "cell_type": "markdown",
   "metadata": {},
   "source": [
    "# Normal Instance"
   ]
  },
  {
   "cell_type": "code",
   "execution_count": 10,
   "metadata": {},
   "outputs": [
    {
     "name": "stdout",
     "output_type": "stream",
     "text": [
      "built and reduced ambiguity set.\n",
      "\n"
     ]
    },
    {
     "data": {
      "text/plain": [
       "21"
      ]
     },
     "execution_count": 10,
     "metadata": {},
     "output_type": "execute_result"
    }
   ],
   "source": [
    "dist = \"normal\"\n",
    "omega_0 = (mu_0, sig_0)\n",
    "#construct MLEs and confidence set\n",
    "X = demand_RV(dist, T, (mu_0, sig_0), N, seed=index)\n",
    "X.compute_mles()\n",
    "AS = ambiguity_set(X, \"confidence_set\", alpha, n_pts, timeout)\n",
    "AS.construct_base_set()\n",
    "AS.construct_confidence_set()\n",
    "AS.compute_extreme_distributions()\n",
    "AS.reduce()\n",
    "print(\"built and reduced ambiguity set.\\n\")\n",
    "\n",
    "num_dists = len(AS.reduced)\n",
    "num_dists"
   ]
  },
  {
   "cell_type": "code",
   "execution_count": 4,
   "metadata": {},
   "outputs": [],
   "source": [
    "DRO_problem = DRMPNVP(T, W, w, p, h, b, PWL_gap, timeout-AS.time_taken, \n",
    "                          solver_cores, dist, AS)\n",
    "    \n",
    "PWL_sol=DRO_problem.PWL_solve(AS.reduced)"
   ]
  },
  {
   "cell_type": "code",
   "execution_count": 5,
   "metadata": {},
   "outputs": [
    {
     "data": {
      "text/plain": [
       "[array([ 0.93146158, 13.60877346]),\n",
       " 2869.3137787254786,\n",
       " ((2.2339458578054767, 12.306289178930502),\n",
       "  (6.315605209351114, 10.218856688320994)),\n",
       " 0.146,\n",
       " False]"
      ]
     },
     "execution_count": 5,
     "metadata": {},
     "output_type": "execute_result"
    }
   ],
   "source": [
    "PWL_sol"
   ]
  },
  {
   "cell_type": "code",
   "execution_count": 6,
   "metadata": {},
   "outputs": [
    {
     "data": {
      "text/plain": [
       "[array([ 0.93146158, 13.60877346]),\n",
       " ((2.2339458578054767, 12.306289178930502),\n",
       "  (6.315605209351114, 10.218856688320994)),\n",
       " 2847.1521636489324,\n",
       " 0.141,\n",
       " False,\n",
       " 'repeat']"
      ]
     },
     "execution_count": 6,
     "metadata": {},
     "output_type": "execute_result"
    }
   ],
   "source": [
    "CS_sol=DRO_problem.CS_solve(AS.reduced[0])\n",
    "CS_sol"
   ]
  },
  {
   "cell_type": "code",
   "execution_count": 3,
   "metadata": {},
   "outputs": [],
   "source": [
    "fd_problem = MPNVP(T, W, w, p, h, b, PWL_gap, timeout, \n",
    "                       solver_cores, dist, X.mle, budget_tol=1e-6, \n",
    "                       tau=0.5, alpha_min=1e-100, alpha_init=0.1)\n",
    "s=time.perf_counter()\n",
    "fd_q = fd_problem.alfares_solve()\n",
    "e=time.perf_counter()"
   ]
  },
  {
   "cell_type": "code",
   "execution_count": 4,
   "metadata": {},
   "outputs": [
    {
     "data": {
      "text/plain": [
       "array([ 1.2761263 , 13.26410874])"
      ]
     },
     "execution_count": 4,
     "metadata": {},
     "output_type": "execute_result"
    }
   ],
   "source": [
    "fd_q"
   ]
  },
  {
   "cell_type": "markdown",
   "metadata": {},
   "source": [
    "# Poisson Instance"
   ]
  },
  {
   "cell_type": "code",
   "execution_count": 3,
   "metadata": {},
   "outputs": [],
   "source": [
    "dist = \"poisson\"\n",
    "lam_0 = tuple([(T - t) * 10 for t in range(T)]) \n",
    "#construct MLEs and confidence set\n",
    "X = demand_RV(dist, T, lam_0, N, seed=index * num_reps + rep)\n",
    "X.compute_mles()\n",
    "AS = ambiguity_set(X, \"confidence_set\", alpha, n_pts, timeout=timeout)\n",
    "AS.construct_base_set()\n",
    "AS.construct_confidence_set()\n",
    "AS.reduce()\n",
    "AS.compute_extreme_distributions()\n",
    "\n",
    "num_dists = len(AS.reduced)\n",
    "\n",
    "DRO_problem = DRMPNVP(T, W, w, p, h, b, 1, timeout, \n",
    "                      gurobi_cores, dist, AS)"
   ]
  },
  {
   "cell_type": "code",
   "execution_count": 4,
   "metadata": {},
   "outputs": [
    {
     "data": {
      "text/plain": [
       "[array([14., 12.]), 3560.5890076550377, (19.68, 9.32), 0.032, False]"
      ]
     },
     "execution_count": 4,
     "metadata": {},
     "output_type": "execute_result"
    }
   ],
   "source": [
    "PWL_sol=DRO_problem.PWL_solve(AS.reduced)\n",
    "PWL_sol"
   ]
  },
  {
   "cell_type": "code",
   "execution_count": 5,
   "metadata": {},
   "outputs": [
    {
     "data": {
      "text/plain": [
       "[array([14., 12.]), (19.68, 9.32), 3560.5890076550377, 0.027, False, 'optimal']"
      ]
     },
     "execution_count": 5,
     "metadata": {},
     "output_type": "execute_result"
    }
   ],
   "source": [
    "CS_sol=DRO_problem.CS_solve(AS.reduced[0])\n",
    "CS_sol"
   ]
  },
  {
   "cell_type": "code",
   "execution_count": 6,
   "metadata": {},
   "outputs": [
    {
     "data": {
      "text/plain": [
       "array([14., 12.])"
      ]
     },
     "execution_count": 6,
     "metadata": {},
     "output_type": "execute_result"
    }
   ],
   "source": [
    "fd_problem = MPNVP(T, W, w, p, h, b, PWL_gap, timeout, \n",
    "                       solver_cores, dist, X.mle, budget_tol=1e-6, \n",
    "                       tau=0.5, alpha_min=1e-100, alpha_init=0.1)\n",
    "s=time.perf_counter()\n",
    "fd_q = fd_problem.alfares_solve()\n",
    "e=time.perf_counter()\n",
    "fd_q"
   ]
  },
  {
   "cell_type": "code",
   "execution_count": null,
   "metadata": {},
   "outputs": [],
   "source": []
  }
 ],
 "metadata": {
  "kernelspec": {
   "display_name": "Python 3",
   "language": "python",
   "name": "python3"
  },
  "language_info": {
   "codemirror_mode": {
    "name": "ipython",
    "version": 3
   },
   "file_extension": ".py",
   "mimetype": "text/x-python",
   "name": "python",
   "nbconvert_exporter": "python",
   "pygments_lexer": "ipython3",
   "version": "3.7.0"
  }
 },
 "nbformat": 4,
 "nbformat_minor": 2
}
